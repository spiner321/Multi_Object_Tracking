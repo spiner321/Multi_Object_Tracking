{
 "cells": [
  {
   "cell_type": "code",
   "execution_count": 44,
   "metadata": {},
   "outputs": [],
   "source": [
    "import os\n",
    "import glob\n",
    "import shutil"
   ]
  },
  {
   "cell_type": "code",
   "execution_count": 14,
   "metadata": {},
   "outputs": [],
   "source": [
    "clips = sorted([i.replace('.zip', '') for i in os.listdir('/data/NIA50/50-2/data/labeled/labeled') if '.zip' in i])"
   ]
  },
  {
   "cell_type": "code",
   "execution_count": 31,
   "metadata": {},
   "outputs": [],
   "source": [
    "zip_file = '/data/NIA50/50-2/data/labeled/raw/수원B_1119_raw.zip'\n",
    "\n",
    "zipfile.ZipFile(zip_file).extractall('/data/NIA50/50-2/data/labeled/raw')"
   ]
  },
  {
   "cell_type": "code",
   "execution_count": 32,
   "metadata": {},
   "outputs": [],
   "source": [
    "import zipfile\n",
    "\n",
    "path = '/data/NIA50/50-2/data/labeled/'\n",
    "ex_path = '/data/NIA50/50-2/data/NIA50_real/'\n",
    "for clip in clips:\n",
    "    if 'Suwon_B_' in clip:\n",
    "        label_file = path + f'labeled/{clip}.zip'\n",
    "        raw_file = path + f'raw/{clip}.zip'\n",
    "        \n",
    "        zipfile.ZipFile(raw_file).extractall(ex_path+clip)\n",
    "        zipfile.ZipFile(label_file).extractall(ex_path+clip)"
   ]
  },
  {
   "cell_type": "code",
   "execution_count": 47,
   "metadata": {},
   "outputs": [],
   "source": [
    "wr_files = sorted(glob.glob('/data/NIA50/50-2/data/NIA50_real/*/*.json'))\n",
    "\n",
    "for wr_file in wr_files:\n",
    "    mv_file = wr_file[:-9] + 'label/' + wr_file[-9:]\n",
    "    shutil.move(wr_file, mv_file)"
   ]
  },
  {
   "cell_type": "code",
   "execution_count": 65,
   "metadata": {},
   "outputs": [],
   "source": [
    "wr_files = sorted(glob.glob('/data/NIA50/50-2/data/NIA50_real/*/*/label/*.json'))\n",
    "# wr_files[0][:57]\n",
    "\n",
    "for wr_file in wr_files:\n",
    "    mv_file = wr_file[:57] + 'label/' + wr_file[-9:]\n",
    "    shutil.move(wr_file, mv_file)"
   ]
  },
  {
   "cell_type": "code",
   "execution_count": 77,
   "metadata": {},
   "outputs": [],
   "source": [
    "for i in sorted(glob.glob('/data/NIA50/50-2/data/NIA50_real/*/*/label')):\n",
    "    shutil.rmtree(i[:-6])"
   ]
  }
 ],
 "metadata": {
  "kernelspec": {
   "display_name": "Python 3.10.6 ('spiner310')",
   "language": "python",
   "name": "python3"
  },
  "language_info": {
   "codemirror_mode": {
    "name": "ipython",
    "version": 3
   },
   "file_extension": ".py",
   "mimetype": "text/x-python",
   "name": "python",
   "nbconvert_exporter": "python",
   "pygments_lexer": "ipython3",
   "version": "3.10.6"
  },
  "orig_nbformat": 4,
  "vscode": {
   "interpreter": {
    "hash": "746d95b724613cc31ae9ea1c95fce8e51ec3ee7393c1b2a647745f061ae2ccda"
   }
  }
 },
 "nbformat": 4,
 "nbformat_minor": 2
}
