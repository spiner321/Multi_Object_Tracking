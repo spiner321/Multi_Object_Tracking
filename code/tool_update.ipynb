{
 "cells": [
  {
   "cell_type": "code",
   "execution_count": null,
   "metadata": {},
   "outputs": [],
   "source": [
    "import shutil\n",
    "import os\n",
    "import glob\n",
    "\n",
    "image = '/data/NIA50/SUSTechPOINTS_aivill/public/js/image.js'\n",
    "save = '/data/NIA50/SUSTechPOINTS_aivill/public/js/save.js'\n",
    "floatlabel = '/data/NIA50/SUSTechPOINTS_aivill/public/js/floatlabel.js'\n",
    "\n",
    "dst_path = '/data/NIA50/50-2/workers/*/public/js'\n",
    "\n",
    "for dst in glob.glob(dst_path):\n",
    "    for new_file in [save]:\n",
    "\n",
    "        shutil.copy(new_file, dst)"
   ]
  }
 ],
 "metadata": {
  "kernelspec": {
   "display_name": "spiner310",
   "language": "python",
   "name": "python3"
  },
  "language_info": {
   "name": "python",
   "version": "3.10.8 (main, Nov 24 2022, 14:13:03) [GCC 11.2.0]"
  },
  "orig_nbformat": 4,
  "vscode": {
   "interpreter": {
    "hash": "746d95b724613cc31ae9ea1c95fce8e51ec3ee7393c1b2a647745f061ae2ccda"
   }
  }
 },
 "nbformat": 4,
 "nbformat_minor": 2
}
