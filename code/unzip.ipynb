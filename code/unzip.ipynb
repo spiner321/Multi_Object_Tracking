{
 "cells": [
  {
   "cell_type": "code",
   "execution_count": null,
   "metadata": {},
   "outputs": [],
   "source": [
    "import os\n",
    "import glob\n",
    "import shutil"
   ]
  },
  {
   "cell_type": "code",
   "execution_count": null,
   "metadata": {},
   "outputs": [],
   "source": [
    "clips = sorted([i.replace('.zip', '') for i in os.listdir('/data/NIA50/50-2/data/labeled/labeled') if '.zip' in i])"
   ]
  },
  {
   "cell_type": "code",
   "execution_count": null,
   "metadata": {},
   "outputs": [],
   "source": [
    "zip_file = '/data/NIA50/50-2/data/labeled/raw/수원B_1119_raw.zip'\n",
    "\n",
    "zipfile.ZipFile(zip_file).extractall('/data/NIA50/50-2/data/labeled/raw')"
   ]
  },
  {
   "cell_type": "code",
   "execution_count": null,
   "metadata": {},
   "outputs": [],
   "source": [
    "import zipfile\n",
    "\n",
    "path = '/data/NIA50/50-2/data/labeled/'\n",
    "ex_path = '/data/NIA50/50-2/data/NIA50_real/'\n",
    "for clip in clips:\n",
    "    if 'Suwon_B_' in clip:\n",
    "        label_file = path + f'labeled/{clip}.zip'\n",
    "        raw_file = path + f'raw/{clip}.zip'\n",
    "        \n",
    "        zipfile.ZipFile(raw_file).extractall(ex_path+clip)\n",
    "        zipfile.ZipFile(label_file).extractall(ex_path+clip)"
   ]
  },
  {
   "cell_type": "code",
   "execution_count": 10,
   "metadata": {},
   "outputs": [],
   "source": [
    "from zipfile import BadZipFile"
   ]
  },
  {
   "cell_type": "code",
   "execution_count": 43,
   "metadata": {},
   "outputs": [
    {
     "name": "stdout",
     "output_type": "stream",
     "text": [
      "Suwon_B_2211010949_0267\n"
     ]
    }
   ],
   "source": [
    "import zipfile\n",
    "from zipfile import BadZipFile\n",
    "\n",
    "path = '/data/NIA50/50-2/data/NIA50/학습용데이터/'\n",
    "ex_path = '/data/NIA50/50-2/data/NIA50/train_1st/'\n",
    "\n",
    "clips = sorted([i.replace('.zip', '') for i in os.listdir(path) if '.zip' in i])\n",
    "\n",
    "for clip in clips[981:]:\n",
    "    try:\n",
    "        file_ = path + f'{clip}.zip'\n",
    "        zipfile.ZipFile(file_).extractall(ex_path+clip)\n",
    "        \n",
    "    except BadZipFile:\n",
    "        print(clip)"
   ]
  },
  {
   "cell_type": "code",
   "execution_count": 12,
   "metadata": {},
   "outputs": [
    {
     "data": {
      "text/plain": [
       "'/data/NIA50/50-2/data/NIA50/train_1st/Suwon_A_2210261635_0000'"
      ]
     },
     "execution_count": 12,
     "metadata": {},
     "output_type": "execute_result"
    }
   ],
   "source": [
    "path = '/data/NIA50/50-2/data/NIA50/학습용데이터/'\n",
    "ex_path = '/data/NIA50/50-2/data/NIA50/train_1st/'\n",
    "clips = sorted([i.replace('.zip', '') for i in os.listdir(path) if '.zip' in i])\n",
    "path+clips[0]+'.zip'\n",
    "\n",
    "ex_path+clips[0]"
   ]
  },
  {
   "cell_type": "code",
   "execution_count": null,
   "metadata": {},
   "outputs": [],
   "source": [
    "path = '/data/NIA50/50-2/data/NIA50/학습용데이터/'\n",
    "ex_path = '/data/NIA50/50-2/data/NIA50/train_1st/'\n",
    "\n",
    "clips = sorted([i.replace('.zip', '') for i in os.listdir(path) if '.zip' in i])\n",
    "clips"
   ]
  },
  {
   "cell_type": "code",
   "execution_count": 8,
   "metadata": {},
   "outputs": [
    {
     "data": {
      "text/plain": [
       "'Suwon_B_2211010949_0267'"
      ]
     },
     "execution_count": 8,
     "metadata": {},
     "output_type": "execute_result"
    }
   ],
   "source": [
    "clips[981]"
   ]
  },
  {
   "cell_type": "code",
   "execution_count": 6,
   "metadata": {},
   "outputs": [
    {
     "data": {
      "text/plain": [
       "982"
      ]
     },
     "execution_count": 6,
     "metadata": {},
     "output_type": "execute_result"
    }
   ],
   "source": [
    "\n",
    "len(os.listdir('/data/NIA50/50-2/data/NIA50/train_1st'))"
   ]
  },
  {
   "cell_type": "code",
   "execution_count": null,
   "metadata": {},
   "outputs": [],
   "source": [
    "wr_files = sorted(glob.glob('/data/NIA50/50-2/data/NIA50_real/*/*.json'))\n",
    "\n",
    "for wr_file in wr_files:\n",
    "    mv_file = wr_file[:-9] + 'label/' + wr_file[-9:]\n",
    "    shutil.move(wr_file, mv_file)"
   ]
  },
  {
   "cell_type": "code",
   "execution_count": null,
   "metadata": {},
   "outputs": [],
   "source": [
    "wr_files = sorted(glob.glob('/data/NIA50/50-2/data/NIA50_real/*/*/label/*.json'))\n",
    "# wr_files[0][:57]\n",
    "\n",
    "for wr_file in wr_files:\n",
    "    mv_file = wr_file[:57] + 'label/' + wr_file[-9:]\n",
    "    shutil.move(wr_file, mv_file)"
   ]
  },
  {
   "cell_type": "code",
   "execution_count": null,
   "metadata": {},
   "outputs": [],
   "source": [
    "for i in sorted(glob.glob('/data/NIA50/50-2/data/NIA50_real/*/*/label')):\n",
    "    shutil.rmtree(i[:-6])"
   ]
  }
 ],
 "metadata": {
  "kernelspec": {
   "display_name": "Python 3.10.6 ('spiner310')",
   "language": "python",
   "name": "python3"
  },
  "language_info": {
   "codemirror_mode": {
    "name": "ipython",
    "version": 3
   },
   "file_extension": ".py",
   "mimetype": "text/x-python",
   "name": "python",
   "nbconvert_exporter": "python",
   "pygments_lexer": "ipython3",
   "version": "3.10.8"
  },
  "orig_nbformat": 4,
  "vscode": {
   "interpreter": {
    "hash": "746d95b724613cc31ae9ea1c95fce8e51ec3ee7393c1b2a647745f061ae2ccda"
   }
  }
 },
 "nbformat": 4,
 "nbformat_minor": 2
}
