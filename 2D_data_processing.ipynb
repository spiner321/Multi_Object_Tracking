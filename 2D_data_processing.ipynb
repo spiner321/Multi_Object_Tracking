{
 "cells": [
  {
   "cell_type": "markdown",
   "metadata": {},
   "source": [
    "# # 모듈\n",
    "---"
   ]
  },
  {
   "cell_type": "code",
   "execution_count": 88,
   "metadata": {},
   "outputs": [],
   "source": [
    "import pandas as pd\n",
    "import numpy as np\n",
    "import json\n",
    "import glob\n",
    "import os\n",
    "import pathlib\n",
    "import re\n",
    "import shutil\n",
    "from sklearn.preprocessing import LabelEncoder\n",
    "from PIL import Image, ImageDraw, ImageFont"
   ]
  },
  {
   "cell_type": "markdown",
   "metadata": {},
   "source": [
    "# # 2d_label 에서 2D 박스 좌표 뽑아내기\n",
    "---"
   ]
  },
  {
   "cell_type": "code",
   "execution_count": null,
   "metadata": {},
   "outputs": [],
   "source": [
    "label_path = '/data/NIA50/data/2-050_sensor_sample/2d_label/'\n",
    "front_labels = [word for word in os.listdir(label_path) if 'front' in word]\n",
    "rear_labels = [word for word in os.listdir(label_path) if 'rear' in word]"
   ]
  },
  {
   "cell_type": "code",
   "execution_count": 4,
   "metadata": {},
   "outputs": [],
   "source": [
    "# 최신 sample\n",
    "label_path = '/data/NIA50/data/sample/2d_label/'\n",
    "rear_labels = os.listdir(label_path)"
   ]
  },
  {
   "cell_type": "markdown",
   "metadata": {},
   "source": [
    "## # front_label\n",
    "---"
   ]
  },
  {
   "cell_type": "code",
   "execution_count": 88,
   "metadata": {},
   "outputs": [
    {
     "data": {
      "text/html": [
       "<div>\n",
       "<style scoped>\n",
       "    .dataframe tbody tr th:only-of-type {\n",
       "        vertical-align: middle;\n",
       "    }\n",
       "\n",
       "    .dataframe tbody tr th {\n",
       "        vertical-align: top;\n",
       "    }\n",
       "\n",
       "    .dataframe thead th {\n",
       "        text-align: right;\n",
       "    }\n",
       "</style>\n",
       "<table border=\"1\" class=\"dataframe\">\n",
       "  <thead>\n",
       "    <tr style=\"text-align: right;\">\n",
       "      <th></th>\n",
       "      <th>x_min</th>\n",
       "      <th>y_min</th>\n",
       "      <th>x_max</th>\n",
       "      <th>y_max</th>\n",
       "      <th>id</th>\n",
       "      <th>class</th>\n",
       "      <th>filename</th>\n",
       "      <th>label</th>\n",
       "    </tr>\n",
       "  </thead>\n",
       "  <tbody>\n",
       "    <tr>\n",
       "      <th>0</th>\n",
       "      <td>346.250</td>\n",
       "      <td>485.000</td>\n",
       "      <td>468.125</td>\n",
       "      <td>552.500</td>\n",
       "      <td>20</td>\n",
       "      <td>truck</td>\n",
       "      <td>1639543825.777566671</td>\n",
       "      <td>7</td>\n",
       "    </tr>\n",
       "    <tr>\n",
       "      <th>1</th>\n",
       "      <td>608.125</td>\n",
       "      <td>500.625</td>\n",
       "      <td>810.000</td>\n",
       "      <td>567.500</td>\n",
       "      <td>17</td>\n",
       "      <td>truck</td>\n",
       "      <td>1639543825.777566671</td>\n",
       "      <td>7</td>\n",
       "    </tr>\n",
       "    <tr>\n",
       "      <th>2</th>\n",
       "      <td>351.250</td>\n",
       "      <td>530.000</td>\n",
       "      <td>395.625</td>\n",
       "      <td>557.500</td>\n",
       "      <td>16</td>\n",
       "      <td>car</td>\n",
       "      <td>1639543825.777566671</td>\n",
       "      <td>2</td>\n",
       "    </tr>\n",
       "    <tr>\n",
       "      <th>3</th>\n",
       "      <td>268.125</td>\n",
       "      <td>524.375</td>\n",
       "      <td>361.250</td>\n",
       "      <td>563.125</td>\n",
       "      <td>15</td>\n",
       "      <td>truck</td>\n",
       "      <td>1639543825.777566671</td>\n",
       "      <td>7</td>\n",
       "    </tr>\n",
       "    <tr>\n",
       "      <th>4</th>\n",
       "      <td>933.750</td>\n",
       "      <td>500.625</td>\n",
       "      <td>1176.875</td>\n",
       "      <td>568.125</td>\n",
       "      <td>18</td>\n",
       "      <td>bus</td>\n",
       "      <td>1639543825.777566671</td>\n",
       "      <td>5</td>\n",
       "    </tr>\n",
       "    <tr>\n",
       "      <th>...</th>\n",
       "      <td>...</td>\n",
       "      <td>...</td>\n",
       "      <td>...</td>\n",
       "      <td>...</td>\n",
       "      <td>...</td>\n",
       "      <td>...</td>\n",
       "      <td>...</td>\n",
       "      <td>...</td>\n",
       "    </tr>\n",
       "    <tr>\n",
       "      <th>1054</th>\n",
       "      <td>40.625</td>\n",
       "      <td>508.750</td>\n",
       "      <td>192.500</td>\n",
       "      <td>612.500</td>\n",
       "      <td>4</td>\n",
       "      <td>truck</td>\n",
       "      <td>1639543835.676477671</td>\n",
       "      <td>7</td>\n",
       "    </tr>\n",
       "    <tr>\n",
       "      <th>1055</th>\n",
       "      <td>0.000</td>\n",
       "      <td>516.875</td>\n",
       "      <td>78.750</td>\n",
       "      <td>582.500</td>\n",
       "      <td>5</td>\n",
       "      <td>car</td>\n",
       "      <td>1639543835.676477671</td>\n",
       "      <td>2</td>\n",
       "    </tr>\n",
       "    <tr>\n",
       "      <th>1056</th>\n",
       "      <td>225.000</td>\n",
       "      <td>495.625</td>\n",
       "      <td>400.000</td>\n",
       "      <td>571.250</td>\n",
       "      <td>6</td>\n",
       "      <td>truck</td>\n",
       "      <td>1639543835.676477671</td>\n",
       "      <td>7</td>\n",
       "    </tr>\n",
       "    <tr>\n",
       "      <th>1057</th>\n",
       "      <td>1370.000</td>\n",
       "      <td>536.875</td>\n",
       "      <td>1280.000</td>\n",
       "      <td>750.625</td>\n",
       "      <td>8</td>\n",
       "      <td>car</td>\n",
       "      <td>1639543835.676477671</td>\n",
       "      <td>2</td>\n",
       "    </tr>\n",
       "    <tr>\n",
       "      <th>1058</th>\n",
       "      <td>533.750</td>\n",
       "      <td>530.000</td>\n",
       "      <td>671.250</td>\n",
       "      <td>603.125</td>\n",
       "      <td>18</td>\n",
       "      <td>car</td>\n",
       "      <td>1639543835.676477671</td>\n",
       "      <td>2</td>\n",
       "    </tr>\n",
       "  </tbody>\n",
       "</table>\n",
       "<p>1059 rows × 8 columns</p>\n",
       "</div>"
      ],
      "text/plain": [
       "         x_min    y_min     x_max    y_max  id  class              filename  \\\n",
       "0      346.250  485.000   468.125  552.500  20  truck  1639543825.777566671   \n",
       "1      608.125  500.625   810.000  567.500  17  truck  1639543825.777566671   \n",
       "2      351.250  530.000   395.625  557.500  16    car  1639543825.777566671   \n",
       "3      268.125  524.375   361.250  563.125  15  truck  1639543825.777566671   \n",
       "4      933.750  500.625  1176.875  568.125  18    bus  1639543825.777566671   \n",
       "...        ...      ...       ...      ...  ..    ...                   ...   \n",
       "1054    40.625  508.750   192.500  612.500   4  truck  1639543835.676477671   \n",
       "1055     0.000  516.875    78.750  582.500   5    car  1639543835.676477671   \n",
       "1056   225.000  495.625   400.000  571.250   6  truck  1639543835.676477671   \n",
       "1057  1370.000  536.875  1280.000  750.625   8    car  1639543835.676477671   \n",
       "1058   533.750  530.000   671.250  603.125  18    car  1639543835.676477671   \n",
       "\n",
       "      label  \n",
       "0         7  \n",
       "1         7  \n",
       "2         2  \n",
       "3         7  \n",
       "4         5  \n",
       "...     ...  \n",
       "1054      7  \n",
       "1055      2  \n",
       "1056      7  \n",
       "1057      2  \n",
       "1058      2  \n",
       "\n",
       "[1059 rows x 8 columns]"
      ]
     },
     "execution_count": 88,
     "metadata": {},
     "output_type": "execute_result"
    }
   ],
   "source": [
    "df_f2dl = pd.DataFrame(columns = ['x_min', 'y_min', 'x_max', 'y_max', 'id', 'class', 'filename'])\n",
    "\n",
    "num = 0\n",
    "for front_label in sorted(front_labels)[1:]:\n",
    "    with open(label_path+front_label, 'rb') as f:\n",
    "        front_js = json.load(f)\n",
    "    \n",
    "    for obj in front_js['objects']:\n",
    "        \n",
    "        x_point = []\n",
    "        y_point = []\n",
    "        for points in obj['front']:\n",
    "            x_point.append(points['x'])\n",
    "            y_point.append(points['y'])\n",
    "            \n",
    "        for points in obj['back']:\n",
    "            x_point.append(points['x'])\n",
    "            y_point.append(points['y'])\n",
    "            \n",
    "        x_min = min(x_point) / 1.6\n",
    "        if x_min < 0: x_min = 0\n",
    "        \n",
    "        y_min = min(y_point) / 1.6\n",
    "        if y_min < 0: y_min = 0\n",
    "        \n",
    "        x_max = max(x_point) / 1.6\n",
    "        if x_max > 1280: x_max = 1280\n",
    "        \n",
    "        y_max = max(y_point) / 1.6\n",
    "        if y_max > 960: y_max = 960\n",
    "        \n",
    "        id_ = obj['id']\n",
    "        class_ = obj['class']\n",
    "        filename = front_js['filename'][:-4]\n",
    "        \n",
    "        data = [x_min, y_min, x_max, y_max, id_, class_, filename]\n",
    "\n",
    "        df_f2dl.loc[num] = data\n",
    "        \n",
    "        num+=1\n",
    "        \n",
    "df_f2dl['class'] = df_f2dl['class'].str.lower()\n",
    "df_f2dl.loc[(df_f2dl['class'] == 'box-svg-selected') | (df_f2dl['class'] == 'medium_truck'), 'class'] = 'truck'\n",
    "df_f2dl.loc[(df_f2dl['class'] == 'adult'), 'class'] = 'person'\n",
    "df_f2dl.loc[(df_f2dl['class'] == 'suv'), 'class'] = 'car'\n",
    "# df_f2dl['class'] = df_f2dl['class'].apply(lambda x: x.capitalize())\n",
    "# df_f2dl['label'] = LabelEncoder().fit_transform(df_f2dl['class'])\n",
    "df_f2dl.loc[df_f2dl['class'] == 'person', 'label'] = 0\n",
    "df_f2dl.loc[df_f2dl['class'] == 'car', 'label'] = 2\n",
    "df_f2dl.loc[df_f2dl['class'] == 'bus', 'label'] = 5\n",
    "df_f2dl.loc[df_f2dl['class'] == 'truck', 'label'] = 7\n",
    "df_f2dl['label'] = df_f2dl['label'].astype('int')\n",
    "\n",
    "df_f2dl"
   ]
  },
  {
   "cell_type": "code",
   "execution_count": 39,
   "metadata": {},
   "outputs": [
    {
     "name": "stdout",
     "output_type": "stream",
     "text": [
      "['truck' 'car' 'bus' 'person']\n",
      "[7 2 5 0]\n"
     ]
    }
   ],
   "source": [
    "print(df_f2dl['class'].unique())\n",
    "print(df_f2dl['label'].unique())"
   ]
  },
  {
   "cell_type": "markdown",
   "metadata": {},
   "source": [
    "## # raer_label\n",
    "---\n"
   ]
  },
  {
   "cell_type": "code",
   "execution_count": 7,
   "metadata": {},
   "outputs": [
    {
     "data": {
      "text/html": [
       "<div>\n",
       "<style scoped>\n",
       "    .dataframe tbody tr th:only-of-type {\n",
       "        vertical-align: middle;\n",
       "    }\n",
       "\n",
       "    .dataframe tbody tr th {\n",
       "        vertical-align: top;\n",
       "    }\n",
       "\n",
       "    .dataframe thead th {\n",
       "        text-align: right;\n",
       "    }\n",
       "</style>\n",
       "<table border=\"1\" class=\"dataframe\">\n",
       "  <thead>\n",
       "    <tr style=\"text-align: right;\">\n",
       "      <th></th>\n",
       "      <th>x_min</th>\n",
       "      <th>y_min</th>\n",
       "      <th>x_max</th>\n",
       "      <th>y_max</th>\n",
       "      <th>id</th>\n",
       "      <th>class</th>\n",
       "      <th>filename</th>\n",
       "    </tr>\n",
       "  </thead>\n",
       "  <tbody>\n",
       "    <tr>\n",
       "      <th>0</th>\n",
       "      <td>185.000</td>\n",
       "      <td>545.000</td>\n",
       "      <td>454.375</td>\n",
       "      <td>688.750</td>\n",
       "      <td>5</td>\n",
       "      <td>Car</td>\n",
       "      <td>1639550110.329685450</td>\n",
       "    </tr>\n",
       "    <tr>\n",
       "      <th>1</th>\n",
       "      <td>360.625</td>\n",
       "      <td>543.750</td>\n",
       "      <td>499.375</td>\n",
       "      <td>628.750</td>\n",
       "      <td>4</td>\n",
       "      <td>Small_Car</td>\n",
       "      <td>1639550110.329685450</td>\n",
       "    </tr>\n",
       "    <tr>\n",
       "      <th>2</th>\n",
       "      <td>441.875</td>\n",
       "      <td>540.000</td>\n",
       "      <td>555.000</td>\n",
       "      <td>609.375</td>\n",
       "      <td>3</td>\n",
       "      <td>SUV</td>\n",
       "      <td>1639550110.329685450</td>\n",
       "    </tr>\n",
       "    <tr>\n",
       "      <th>3</th>\n",
       "      <td>541.250</td>\n",
       "      <td>551.875</td>\n",
       "      <td>565.000</td>\n",
       "      <td>590.000</td>\n",
       "      <td>2</td>\n",
       "      <td>Car</td>\n",
       "      <td>1639550110.329685450</td>\n",
       "    </tr>\n",
       "    <tr>\n",
       "      <th>4</th>\n",
       "      <td>171.875</td>\n",
       "      <td>545.000</td>\n",
       "      <td>453.750</td>\n",
       "      <td>689.375</td>\n",
       "      <td>5</td>\n",
       "      <td>Car</td>\n",
       "      <td>1639550110.428467751</td>\n",
       "    </tr>\n",
       "    <tr>\n",
       "      <th>...</th>\n",
       "      <td>...</td>\n",
       "      <td>...</td>\n",
       "      <td>...</td>\n",
       "      <td>...</td>\n",
       "      <td>...</td>\n",
       "      <td>...</td>\n",
       "      <td>...</td>\n",
       "    </tr>\n",
       "    <tr>\n",
       "      <th>391</th>\n",
       "      <td>540.625</td>\n",
       "      <td>560.000</td>\n",
       "      <td>576.250</td>\n",
       "      <td>598.750</td>\n",
       "      <td>2</td>\n",
       "      <td>Car</td>\n",
       "      <td>1639550120.027633667</td>\n",
       "    </tr>\n",
       "    <tr>\n",
       "      <th>392</th>\n",
       "      <td>164.375</td>\n",
       "      <td>544.375</td>\n",
       "      <td>455.625</td>\n",
       "      <td>689.375</td>\n",
       "      <td>5</td>\n",
       "      <td>Car</td>\n",
       "      <td>1639550120.124609947</td>\n",
       "    </tr>\n",
       "    <tr>\n",
       "      <th>393</th>\n",
       "      <td>365.000</td>\n",
       "      <td>544.375</td>\n",
       "      <td>501.250</td>\n",
       "      <td>628.125</td>\n",
       "      <td>4</td>\n",
       "      <td>Small_Car</td>\n",
       "      <td>1639550120.124609947</td>\n",
       "    </tr>\n",
       "    <tr>\n",
       "      <th>394</th>\n",
       "      <td>445.000</td>\n",
       "      <td>537.500</td>\n",
       "      <td>548.750</td>\n",
       "      <td>606.250</td>\n",
       "      <td>3</td>\n",
       "      <td>SUV</td>\n",
       "      <td>1639550120.124609947</td>\n",
       "    </tr>\n",
       "    <tr>\n",
       "      <th>395</th>\n",
       "      <td>540.000</td>\n",
       "      <td>560.000</td>\n",
       "      <td>575.625</td>\n",
       "      <td>598.750</td>\n",
       "      <td>2</td>\n",
       "      <td>Car</td>\n",
       "      <td>1639550120.124609947</td>\n",
       "    </tr>\n",
       "  </tbody>\n",
       "</table>\n",
       "<p>396 rows × 7 columns</p>\n",
       "</div>"
      ],
      "text/plain": [
       "       x_min    y_min    x_max    y_max  id      class              filename\n",
       "0    185.000  545.000  454.375  688.750   5        Car  1639550110.329685450\n",
       "1    360.625  543.750  499.375  628.750   4  Small_Car  1639550110.329685450\n",
       "2    441.875  540.000  555.000  609.375   3        SUV  1639550110.329685450\n",
       "3    541.250  551.875  565.000  590.000   2        Car  1639550110.329685450\n",
       "4    171.875  545.000  453.750  689.375   5        Car  1639550110.428467751\n",
       "..       ...      ...      ...      ...  ..        ...                   ...\n",
       "391  540.625  560.000  576.250  598.750   2        Car  1639550120.027633667\n",
       "392  164.375  544.375  455.625  689.375   5        Car  1639550120.124609947\n",
       "393  365.000  544.375  501.250  628.125   4  Small_Car  1639550120.124609947\n",
       "394  445.000  537.500  548.750  606.250   3        SUV  1639550120.124609947\n",
       "395  540.000  560.000  575.625  598.750   2        Car  1639550120.124609947\n",
       "\n",
       "[396 rows x 7 columns]"
      ]
     },
     "execution_count": 7,
     "metadata": {},
     "output_type": "execute_result"
    }
   ],
   "source": [
    "df_r2dl = pd.DataFrame(columns = ['x_min', 'y_min', 'x_max', 'y_max', 'id', 'class', 'filename'])\n",
    "\n",
    "num = 0\n",
    "for rear_label in sorted(rear_labels)[1:]:\n",
    "    with open(label_path+rear_label, 'rb') as f:\n",
    "        rear_js = json.load(f)\n",
    "    \n",
    "    for obj in rear_js['objects']:\n",
    "        \n",
    "        x_point = []\n",
    "        y_point = []\n",
    "        for points in obj['front']:\n",
    "            x_point.append(points['x'])\n",
    "            y_point.append(points['y'])\n",
    "            \n",
    "        for points in obj['back']:\n",
    "            x_point.append(points['x'])\n",
    "            y_point.append(points['y'])\n",
    "            \n",
    "        x_min = min(x_point) / 1.6\n",
    "        if x_min < 0: x_min = 0\n",
    "        \n",
    "        y_min = min(y_point) / 1.6\n",
    "        if y_min < 0: y_min = 0\n",
    "        \n",
    "        x_max = max(x_point) / 1.6\n",
    "        if x_max > 1280: x_max = 1280\n",
    "        \n",
    "        y_max = max(y_point) / 1.6\n",
    "        if y_max > 960: y_max = 960\n",
    "        \n",
    "        id_ = obj['id']\n",
    "        class_ = obj['class']\n",
    "        filename = rear_js['filename'][:-4]\n",
    "        \n",
    "        data = [x_min, y_min, x_max, y_max, id_, class_, filename]\n",
    "\n",
    "        df_r2dl.loc[num] = data\n",
    "        \n",
    "        num+=1\n",
    "\n",
    "df_r2dl"
   ]
  },
  {
   "cell_type": "code",
   "execution_count": 9,
   "metadata": {},
   "outputs": [
    {
     "name": "stdout",
     "output_type": "stream",
     "text": [
      "['Car' 'Small_Car' 'SUV']\n"
     ]
    }
   ],
   "source": [
    "print(df_r2dl['class'].unique())\n",
    "# print(df_r2dl['label'].unique())"
   ]
  },
  {
   "cell_type": "markdown",
   "metadata": {},
   "source": [
    "# # yolov5용 label 만들기\n",
    "---"
   ]
  },
  {
   "cell_type": "code",
   "execution_count": 10,
   "metadata": {},
   "outputs": [],
   "source": [
    "def kitti_to_yolo(label, x1, y1, x2, y2, image_w, image_h): # x1=x_min, y1=y_min, x2=x_max, y2=y_max\n",
    "    return [label, ((x2 + x1)/(2*image_w)), ((y2 + y1)/(2*image_h)), (x2 - x1)/image_w, (y2 - y1)/image_h]"
   ]
  },
  {
   "cell_type": "code",
   "execution_count": 11,
   "metadata": {},
   "outputs": [
    {
     "ename": "NameError",
     "evalue": "name 'df_f2dl' is not defined",
     "output_type": "error",
     "traceback": [
      "\u001b[0;31m---------------------------------------------------------------------------\u001b[0m",
      "\u001b[0;31mNameError\u001b[0m                                 Traceback (most recent call last)",
      "\u001b[1;32m/data/NIA50/kimgh/data_processing.ipynb 셀 14\u001b[0m in \u001b[0;36m<cell line: 1>\u001b[0;34m()\u001b[0m\n\u001b[0;32m----> <a href='vscode-notebook-cell://ssh-remote%2B7b22686f73744e616d65223a224e484e227d/data/NIA50/kimgh/data_processing.ipynb#X14sdnNjb2RlLXJlbW90ZQ%3D%3D?line=0'>1</a>\u001b[0m \u001b[39mfor\u001b[39;00m filename \u001b[39min\u001b[39;00m df_f2dl[\u001b[39m'\u001b[39m\u001b[39mfilename\u001b[39m\u001b[39m'\u001b[39m]\u001b[39m.\u001b[39munique():\n\u001b[1;32m      <a href='vscode-notebook-cell://ssh-remote%2B7b22686f73744e616d65223a224e484e227d/data/NIA50/kimgh/data_processing.ipynb#X14sdnNjb2RlLXJlbW90ZQ%3D%3D?line=2'>3</a>\u001b[0m     df_lb \u001b[39m=\u001b[39m pd\u001b[39m.\u001b[39mDataFrame(columns \u001b[39m=\u001b[39m [\u001b[39m'\u001b[39m\u001b[39mclass\u001b[39m\u001b[39m'\u001b[39m, \u001b[39m'\u001b[39m\u001b[39mx\u001b[39m\u001b[39m'\u001b[39m, \u001b[39m'\u001b[39m\u001b[39my\u001b[39m\u001b[39m'\u001b[39m, \u001b[39m'\u001b[39m\u001b[39mwidth\u001b[39m\u001b[39m'\u001b[39m, \u001b[39m'\u001b[39m\u001b[39mheight\u001b[39m\u001b[39m'\u001b[39m])\n\u001b[1;32m      <a href='vscode-notebook-cell://ssh-remote%2B7b22686f73744e616d65223a224e484e227d/data/NIA50/kimgh/data_processing.ipynb#X14sdnNjb2RlLXJlbW90ZQ%3D%3D?line=3'>4</a>\u001b[0m     \u001b[39mfor\u001b[39;00m i, j \u001b[39min\u001b[39;00m \u001b[39menumerate\u001b[39m(df_f2dl\u001b[39m.\u001b[39mloc[df_f2dl[\u001b[39m'\u001b[39m\u001b[39mfilename\u001b[39m\u001b[39m'\u001b[39m] \u001b[39m==\u001b[39m filename]\u001b[39m.\u001b[39mindex):\n",
      "\u001b[0;31mNameError\u001b[0m: name 'df_f2dl' is not defined"
     ]
    }
   ],
   "source": [
    "for filename in df_f2dl['filename'].unique():\n",
    "\n",
    "    df_lb = pd.DataFrame(columns = ['class', 'x', 'y', 'width', 'height'])\n",
    "    for i, j in enumerate(df_f2dl.loc[df_f2dl['filename'] == filename].index):\n",
    "        tmp = df_f2dl.iloc[j]\n",
    "        label_data = kitti_to_yolo(tmp['label'], tmp['x_min'], tmp['y_min'], tmp['x_max'], tmp['y_max'], 1280, 960)\n",
    "        \n",
    "        df_lb.loc[i] = label_data\n",
    "        df_lb['class'] = df_lb['class'].astype('int')\n",
    "        \n",
    "    df_lb = df_lb.loc[df_lb['width'] > 0]\n",
    "    df_lb = df_lb.loc[df_lb['height'] > 0]\n",
    "    df_lb.to_csv(f'/data/NIA50/data/2-050_sensor_sample/camera/front/labels/{filename}.txt', index = None, header = None, sep = ' ')"
   ]
  },
  {
   "cell_type": "markdown",
   "metadata": {},
   "source": [
    "# # 2D 라벨링 시각화\n",
    "---"
   ]
  },
  {
   "cell_type": "code",
   "execution_count": 274,
   "metadata": {},
   "outputs": [
    {
     "data": {
      "text/plain": [
       "101"
      ]
     },
     "execution_count": 274,
     "metadata": {},
     "output_type": "execute_result"
    }
   ],
   "source": [
    "len(front_labels)"
   ]
  },
  {
   "cell_type": "code",
   "execution_count": 8,
   "metadata": {},
   "outputs": [
    {
     "data": {
      "text/plain": [
       "100"
      ]
     },
     "execution_count": 8,
     "metadata": {},
     "output_type": "execute_result"
    }
   ],
   "source": [
    "a = os.listdir('/data/project50/2-050_sensor_sample/camera/front')\n",
    "b = [i[:-4] for i in a]\n",
    "len(b)"
   ]
  },
  {
   "cell_type": "code",
   "execution_count": 284,
   "metadata": {},
   "outputs": [
    {
     "name": "stdout",
     "output_type": "stream",
     "text": [
      "1639543830.576124191\n"
     ]
    }
   ],
   "source": [
    "# json 내부 filename 이상\n",
    "\n",
    "for i in b:\n",
    "    if i not in df_f2dl['filename'].unique():\n",
    "        print(i)"
   ]
  },
  {
   "cell_type": "code",
   "execution_count": 288,
   "metadata": {},
   "outputs": [
    {
     "data": {
      "text/plain": [
       "57"
      ]
     },
     "execution_count": 288,
     "metadata": {},
     "output_type": "execute_result"
    }
   ],
   "source": [
    "b.index('1639543830.576124191')"
   ]
  },
  {
   "cell_type": "code",
   "execution_count": 54,
   "metadata": {},
   "outputs": [
    {
     "data": {
      "text/plain": [
       "'1639543825.978711843'"
      ]
     },
     "execution_count": 54,
     "metadata": {},
     "output_type": "execute_result"
    }
   ],
   "source": [
    "df_f2dl['filename'].unique()[2]"
   ]
  },
  {
   "cell_type": "markdown",
   "metadata": {},
   "source": [
    "## # front\n",
    "---"
   ]
  },
  {
   "cell_type": "code",
   "execution_count": null,
   "metadata": {},
   "outputs": [],
   "source": [
    "from PIL import Image, ImageDraw, ImageFont\n",
    "\n",
    "font_size = 15\n",
    "color = (0, 255, 0)\n",
    "\n",
    "for j in df_f2dl['filename'].unique()[:1]:\n",
    "    img = f'/data/NIA50/data/2-050_sensor_sample/camera/front/images/{j}.jpg'\n",
    "    img_ = Image.open(img).convert('RGB')\n",
    "    \n",
    "    temp = df_f2dl.loc[df_f2dl['filename'] == j]\n",
    "    for i in temp.index:\n",
    "        data = temp.loc[i]\n",
    "        \n",
    "        # color = tuple(np.random.choice(255, 3))\n",
    "        font = ImageFont.truetype('/data/NIA50/kimgh/fonts/arial.ttf', 18) # arial.ttf 글씨체, font_size=15\n",
    "        # font = ImageFont.load_default()\n",
    "        # box_color_RGBA  = (0,255,0,255)\n",
    "        # fill_color_RGBA = (0,255,0,50)\n",
    "        # draw = ImageDraw.Draw(img_, 'RGBA') # RGBA\n",
    "        # draw.rectangle((100,100,300,300), outline=box_color_RGBA, fill=fill_color_RGBA, width = 3)\n",
    "        # img_.show()\n",
    "\n",
    "        draw = ImageDraw.Draw(img_)\n",
    "        text_pos = (data[0], data[1]-23)\n",
    "        draw.text(text_pos, f\"{data['id'], data['class']}\", fill = color, font = font, stroke_width = 1)\n",
    "        draw.rectangle(list(data[:4]), outline = color, width = 3)\n",
    "    \n",
    "    print('filename :', j)    \n",
    "    img_.show()"
   ]
  },
  {
   "cell_type": "markdown",
   "metadata": {},
   "source": [
    "## # rear\n",
    "---"
   ]
  },
  {
   "cell_type": "code",
   "execution_count": null,
   "metadata": {},
   "outputs": [],
   "source": [
    "from PIL import Image, ImageDraw, ImageFont\n",
    "\n",
    "font_size = 15\n",
    "color = (0, 255, 0)\n",
    "\n",
    "for j in df_r2dl['filename'].unique()[90:101]:\n",
    "    img = f'/data/NIA50/data/sample/camera/rear/{j}.jpg'\n",
    "    img_ = Image.open(img).convert('RGB')\n",
    "    \n",
    "    temp = df_r2dl.loc[df_r2dl['filename'] == j]\n",
    "    for i in temp.index:\n",
    "        data = temp.loc[i]\n",
    "        \n",
    "        # color = tuple(np.random.choice(255, 3))\n",
    "        font = ImageFont.truetype('/data/NIA50/kimgh/fonts/arial.ttf', 18) # arial.ttf 글씨체, font_size=15\n",
    "        # font = ImageFont.load_default()\n",
    "        # box_color_RGBA  = (0,255,0,255)\n",
    "        # fill_color_RGBA = (0,255,0,50)\n",
    "        # draw = ImageDraw.Draw(img_, 'RGBA') # RGBA\n",
    "        # draw.rectangle((100,100,300,300), outline=box_color_RGBA, fill=fill_color_RGBA, width = 3)\n",
    "        # img_.show()\n",
    "\n",
    "        draw = ImageDraw.Draw(img_)\n",
    "        text_pos = (data[0], data[1]-23)\n",
    "        draw.text(text_pos, f\"{data['id'], data['class']}\", fill = color, font = font, stroke_width = 1)\n",
    "        draw.rectangle(list(data[:4]), outline = color, width = 3)\n",
    "        \n",
    "    print('filename :', j)    \n",
    "    img_.show()"
   ]
  },
  {
   "cell_type": "markdown",
   "metadata": {},
   "source": [
    "# # 48번 데이터\n",
    "---"
   ]
  },
  {
   "cell_type": "code",
   "execution_count": 25,
   "metadata": {},
   "outputs": [
    {
     "data": {
      "text/plain": [
       "['A_Clip_00057_01',\n",
       " 'A_Clip_00066_07',\n",
       " 'A_Clip_00075_07',\n",
       " 'A_Clip_00180_01',\n",
       " 'A_Clip_00191_01',\n",
       " 'A_Clip_00194_01',\n",
       " 'A_Clip_00236_06',\n",
       " 'A_Clip_00238_06',\n",
       " 'A_Clip_00261_01',\n",
       " 'A_Clip_00275_01',\n",
       " 'A_Clip_00276_05',\n",
       " 'A_Clip_00342_05',\n",
       " 'A_Clip_00355_05',\n",
       " 'A_Clip_00392_01',\n",
       " 'A_Clip_05224_01',\n",
       " 'A_Clip_05231_01',\n",
       " 'A_Clip_05232_01',\n",
       " 'A_Clip_05233_01',\n",
       " 'A_Clip_05237_01',\n",
       " 'A_Clip_05247_03',\n",
       " 'A_Clip_05251_03',\n",
       " 'A_Clip_05310_01',\n",
       " 'A_Clip_05314_01',\n",
       " 'A_Clip_05351_01',\n",
       " 'A_Clip_05355_01',\n",
       " 'A_Clip_05363_01',\n",
       " 'A_Clip_05364_01',\n",
       " 'A_Clip_05371_01',\n",
       " 'A_Clip_05373_01',\n",
       " 'A_Clip_05374_01',\n",
       " 'A_Clip_05377_01',\n",
       " 'A_Clip_05403_01',\n",
       " 'A_Clip_05404_01',\n",
       " 'A_Clip_05406_07',\n",
       " 'A_Clip_05408_01',\n",
       " 'A_Clip_05409_07',\n",
       " 'A_Clip_05411_07',\n",
       " 'A_Clip_05412_07',\n",
       " 'A_Clip_05413_07',\n",
       " 'A_Clip_05415_05',\n",
       " 'A_Clip_05416_07',\n",
       " 'A_Clip_05420_01',\n",
       " 'A_Clip_05421_01',\n",
       " 'A_Clip_05422_07',\n",
       " 'A_Clip_05423_07',\n",
       " 'A_Clip_05424_07',\n",
       " 'A_Clip_05425_07',\n",
       " 'A_Clip_05429_01',\n",
       " 'A_Clip_05441_01',\n",
       " 'A_Clip_05442_01',\n",
       " 'A_Clip_05451_01',\n",
       " 'A_Clip_05470_07',\n",
       " 'A_Clip_05472_07',\n",
       " 'A_Clip_05473_07',\n",
       " 'A_Clip_05477_03',\n",
       " 'A_Clip_05485_01',\n",
       " 'A_Clip_05487_01',\n",
       " 'A_Clip_05491_01',\n",
       " 'A_Clip_05492_01',\n",
       " 'A_Clip_05517_07',\n",
       " 'A_Clip_05520_01',\n",
       " 'A_Clip_05531_05',\n",
       " 'A_Clip_05535_07',\n",
       " 'A_Clip_05538_07',\n",
       " 'A_Clip_05539_07',\n",
       " 'A_Clip_05547_05',\n",
       " 'A_Clip_05551_01',\n",
       " 'A_Clip_05556_07',\n",
       " 'A_Clip_05561_07',\n",
       " 'A_Clip_05699_05',\n",
       " 'A_Clip_05704_01',\n",
       " 'A_Clip_05713_07',\n",
       " 'A_Clip_05723_01',\n",
       " 'A_Clip_05724_01',\n",
       " 'A_Clip_05725_01',\n",
       " 'A_Clip_05788_05',\n",
       " 'A_Clip_05789_01',\n",
       " 'A_Clip_05794_05',\n",
       " 'A_Clip_05796_01',\n",
       " 'A_Clip_05797_07',\n",
       " 'A_Clip_05800_07',\n",
       " 'A_Clip_05801_01',\n",
       " 'A_Clip_05802_07',\n",
       " 'A_Clip_05803_05',\n",
       " 'A_Clip_05804_05',\n",
       " 'A_Clip_05806_01',\n",
       " 'A_Clip_05807_07',\n",
       " 'A_Clip_05819_07',\n",
       " 'A_Clip_05822_07',\n",
       " 'A_Clip_05825_07',\n",
       " 'A_Clip_05826_07',\n",
       " 'A_Clip_05850_01',\n",
       " 'A_Clip_05851_05',\n",
       " 'A_Clip_05853_05',\n",
       " 'A_Clip_05854_01',\n",
       " 'A_Clip_05855_05',\n",
       " 'A_Clip_06117_01',\n",
       " 'A_Clip_06124_01',\n",
       " 'A_Clip_06127_01',\n",
       " 'A_Clip_06129_05',\n",
       " 'A_Clip_06135_01',\n",
       " 'A_Clip_06139_07',\n",
       " 'A_Clip_06156_07',\n",
       " 'A_Clip_06172_01',\n",
       " 'A_Clip_06173_05',\n",
       " 'A_Clip_06183_01',\n",
       " 'A_Clip_06186_01',\n",
       " 'A_Clip_06193_01',\n",
       " 'A_Clip_06200_07',\n",
       " 'A_Clip_06207_01',\n",
       " 'A_Clip_06209_07',\n",
       " 'A_Clip_06213_05',\n",
       " 'A_Clip_06218_05',\n",
       " 'A_Clip_06226_05']"
      ]
     },
     "execution_count": 25,
     "metadata": {},
     "output_type": "execute_result"
    }
   ],
   "source": [
    "path = '/data/NIA50/data/Avante_Clips/'\n",
    "avante_clip = []\n",
    "for i in os.listdir(path):\n",
    "    clip = os.listdir(path+i)\n",
    "    avante_clip+=clip\n",
    "    \n",
    "sorted(avante_clip)"
   ]
  },
  {
   "cell_type": "code",
   "execution_count": 135,
   "metadata": {},
   "outputs": [],
   "source": [
    "# 라벨 복사\n",
    "\n",
    "import glob\n",
    "import shutil\n",
    "\n",
    "all_path = glob.glob('/data/NIA50/data/aivill-48/*/*/label')\n",
    "\n",
    "avante_labels = []\n",
    "for path in all_path:\n",
    "    for i in os.listdir(path):\n",
    "        if 'A_Clip' in i:\n",
    "            # print(path + '/' + i)\n",
    "            shutil.copytree(path + '/' + i + '/result', '/data/NIA50/data/yolo_aivill48/' + i, dirs_exist_ok=True)\n",
    "            avante_labels.append(i)\n",
    "            "
   ]
  },
  {
   "cell_type": "code",
   "execution_count": 136,
   "metadata": {},
   "outputs": [],
   "source": [
    "# 이미지 복사\n",
    "\n",
    "import os\n",
    "import shutil\n",
    "\n",
    "\n",
    "path = '/data/NIA50/data/yolo_aivill48/'\n",
    "\n",
    "for i in avante_labels:\n",
    "    os.makedirs(path+i, exist_ok=True)\n",
    " \n",
    "    \n",
    "all_path = '/data/NIA50/data/Avante_Clips/*/*'\n",
    "\n",
    "paths = []\n",
    "for i in glob.glob(all_path):\n",
    "    for j in avante_labels:\n",
    "        if j in i:\n",
    "            paths.append(i)\n",
    "            \n",
    "\n",
    "# 폴더 생성\n",
    "for path in paths:\n",
    "    shutil.copytree(path + '/Camera/CameraFront/blur', '/data/NIA50/data/yolo_aivill48/' + path[-15:], dirs_exist_ok=True)"
   ]
  },
  {
   "cell_type": "markdown",
   "metadata": {},
   "source": [
    "## # yolo에 맞춰 라벨링\n",
    "---"
   ]
  },
  {
   "cell_type": "code",
   "execution_count": 6,
   "metadata": {},
   "outputs": [],
   "source": [
    "def xywh2xyxy(x):\n",
    "    # Convert nx4 boxes from [x, y, w, h] to [x1, y1, x2, y2] where xy1=top-left, xy2=bottom-right\n",
    "    x = np.array(x).reshape(1, -1)\n",
    "    y = np.copy(x)\n",
    "    y[:, 0] = x[:, 0] - x[:, 2] / 2  # top left x\n",
    "    y[:, 1] = x[:, 1] - x[:, 3] / 2  # top left y\n",
    "    y[:, 2] = x[:, 0] + x[:, 2] / 2  # bottom right x\n",
    "    y[:, 3] = x[:, 1] + x[:, 3] / 2  # bottom right y\n",
    "    y = list(y.reshape(-1))\n",
    "    return y\n",
    "\n",
    "\n",
    "def xyxy2xywhn(x, w=1920, h=1200, clip=False, eps=0.0):\n",
    "    # Convert nx4 boxes from [x1, y1, x2, y2] to [x, y, w, h] normalized where xy1=top-left, xy2=bottom-right\n",
    "    if clip:\n",
    "        clip_boxes(x, (h - eps, w - eps))  # warning: inplace clip\n",
    "    x = np.array(x).reshape(1, -1)\n",
    "    y = np.copy(x)\n",
    "    y[:, 0] = ((x[:, 0] + x[:, 2]) / 2) / w  # x center\n",
    "    y[:, 1] = ((x[:, 1] + x[:, 3]) / 2) / h  # y center\n",
    "    y[:, 2] = (x[:, 2] - x[:, 0]) / w  # width\n",
    "    y[:, 3] = (x[:, 3] - x[:, 1]) / h  # height\n",
    "    y = list(y.reshape(-1))\n",
    "    return y"
   ]
  },
  {
   "cell_type": "code",
   "execution_count": 96,
   "metadata": {},
   "outputs": [
    {
     "data": {
      "text/plain": [
       "1"
      ]
     },
     "execution_count": 96,
     "metadata": {},
     "output_type": "execute_result"
    }
   ],
   "source": [
    "class_['BUS']"
   ]
  },
  {
   "cell_type": "code",
   "execution_count": 97,
   "metadata": {},
   "outputs": [],
   "source": [
    "import json\n",
    "import re\n",
    "\n",
    "class_ = {'BICYCLE': 0, 'BUS': 1, 'CAR': 2, 'ETC': 3, 'PEDESTRIAN': 4, 'TRUCK': 5, 'MOTORCYCLE': 6}\n",
    "\n",
    "labels = glob.glob('/data/NIA50/data/yolo_aivill48/*/*.json')\n",
    "\n",
    "for label in labels:                     \n",
    "    with open (label, 'r') as f:\n",
    "        label_js = json.load(f)\n",
    "        name = re.sub('FC', 'CF', label[-23:-5])\n",
    "        f.close()\n",
    "        \n",
    "        with open ('/data/NIA50/data/yolo_aivill48/labels/' + name + '.txt', 'w') as f:\n",
    "            \n",
    "            for i in np.arange(len(label_js['annotation'])):\n",
    "                category = label_js['annotation'][i]['category']\n",
    "                xywh = label_js['annotation'][i]['3d_box'][0]['2d_box']\n",
    "                \n",
    "                f.write(f\"{class_[category]} {xywh[0]/1920} {xywh[1]/1200} {xywh[2]/1920} {xywh[3]/1200}\\n\")\n",
    "\n",
    "            f.close()"
   ]
  },
  {
   "cell_type": "code",
   "execution_count": 91,
   "metadata": {},
   "outputs": [],
   "source": [
    "temp = []\n",
    "for label in labels:                     \n",
    "    with open (label, 'r') as f:\n",
    "        label_js = json.load(f)\n",
    "        name = re.sub('FC', 'CF', label[-23:-5])\n",
    "        \n",
    "        for i in np.arange(len(label_js['annotation'])):\n",
    "            category = label_js['annotation'][i]['category']\n",
    "            temp.append(category)"
   ]
  },
  {
   "cell_type": "code",
   "execution_count": 89,
   "metadata": {},
   "outputs": [],
   "source": [
    "images = glob.glob('/data/NIA50/data/yolo_aivill48/*/*.png')\n",
    "\n",
    "for image in images:\n",
    "    shutil.copy(image, '/data/NIA50/data/yolo_aivill48/images')"
   ]
  },
  {
   "cell_type": "markdown",
   "metadata": {},
   "source": [
    "## # yaml용 train, val 세트 나누기\n",
    "---"
   ]
  },
  {
   "cell_type": "code",
   "execution_count": 90,
   "metadata": {},
   "outputs": [],
   "source": [
    "import glob\n",
    "from sklearn.model_selection import train_test_split\n",
    "\n",
    "img_list = sorted(glob.glob('/data/NIA50/data/yolo_aivill48/images/*.png'))\n",
    "\n",
    "train_list, val_list = train_test_split(img_list, test_size = 0.2, random_state = 0)\n",
    "\n",
    "with open('/data/NIA50/data/yolo_aivill48/train.txt', 'w') as f:\n",
    "    f.write('\\n'.join(train_list) + '\\n')\n",
    "    \n",
    "with open('/data/NIA50/data/yolo_aivill48/val.txt', 'w') as f:\n",
    "    f.write('\\n'.join(val_list) + '\\n')"
   ]
  },
  {
   "cell_type": "code",
   "execution_count": 98,
   "metadata": {},
   "outputs": [
    {
     "data": {
      "text/plain": [
       "['yolo_avill482', 'yolo_avill48', 'yolov5x_results7', 'yolov5x_results10']"
      ]
     },
     "execution_count": 98,
     "metadata": {},
     "output_type": "execute_result"
    }
   ],
   "source": [
    "os.listdir('/data/NIA50/yolov5/runs/train')"
   ]
  }
 ],
 "metadata": {
  "kernelspec": {
   "display_name": "Python 3.10.6 ('spiner310')",
   "language": "python",
   "name": "python3"
  },
  "language_info": {
   "codemirror_mode": {
    "name": "ipython",
    "version": 3
   },
   "file_extension": ".py",
   "mimetype": "text/x-python",
   "name": "python",
   "nbconvert_exporter": "python",
   "pygments_lexer": "ipython3",
   "version": "3.10.6"
  },
  "orig_nbformat": 4,
  "vscode": {
   "interpreter": {
    "hash": "746d95b724613cc31ae9ea1c95fce8e51ec3ee7393c1b2a647745f061ae2ccda"
   }
  }
 },
 "nbformat": 4,
 "nbformat_minor": 2
}
