{
 "cells": [
  {
   "cell_type": "markdown",
   "metadata": {},
   "source": [
    "# # 모듈\n",
    "---"
   ]
  },
  {
   "cell_type": "code",
   "execution_count": null,
   "metadata": {},
   "outputs": [],
   "source": [
    "import pandas as pd\n",
    "import numpy as np\n",
    "import json\n",
    "import glob\n",
    "import os\n",
    "import pathlib\n",
    "import re\n",
    "import shutil\n",
    "from sklearn.preprocessing import LabelEncoder\n",
    "from PIL import Image, ImageDraw, ImageFont"
   ]
  },
  {
   "cell_type": "markdown",
   "metadata": {},
   "source": [
    "# # NIA50_sample\n",
    "---"
   ]
  },
  {
   "cell_type": "code",
   "execution_count": null,
   "metadata": {},
   "outputs": [],
   "source": [
    "label_path = '/data/NIA50/data/2-050_sensor_sample/2d_label/'\n",
    "front_labels = [word for word in os.listdir(label_path) if 'front' in word]\n",
    "rear_labels = [word for word in os.listdir(label_path) if 'rear' in word]"
   ]
  },
  {
   "cell_type": "code",
   "execution_count": null,
   "metadata": {},
   "outputs": [],
   "source": [
    "# 최신 sample\n",
    "label_path = '/data/NIA50/data/sample/2d_label/'\n",
    "rear_labels = os.listdir(label_path)"
   ]
  },
  {
   "cell_type": "markdown",
   "metadata": {},
   "source": [
    "## # labels\n",
    "---"
   ]
  },
  {
   "cell_type": "markdown",
   "metadata": {},
   "source": [
    "### # front_label\n",
    "---"
   ]
  },
  {
   "cell_type": "code",
   "execution_count": null,
   "metadata": {},
   "outputs": [],
   "source": [
    "df_f2dl = pd.DataFrame(columns = ['x_min', 'y_min', 'x_max', 'y_max', 'id', 'class', 'filename'])\n",
    "\n",
    "num = 0\n",
    "for front_label in sorted(front_labels)[1:]:\n",
    "    with open(label_path+front_label, 'rb') as f:\n",
    "        front_js = json.load(f)\n",
    "    \n",
    "    for obj in front_js['objects']:\n",
    "        \n",
    "        x_point = []\n",
    "        y_point = []\n",
    "        for points in obj['front']:\n",
    "            x_point.append(points['x'])\n",
    "            y_point.append(points['y'])\n",
    "            \n",
    "        for points in obj['back']:\n",
    "            x_point.append(points['x'])\n",
    "            y_point.append(points['y'])\n",
    "            \n",
    "        x_min = min(x_point) / 1.6\n",
    "        if x_min < 0: x_min = 0\n",
    "        \n",
    "        y_min = min(y_point) / 1.6\n",
    "        if y_min < 0: y_min = 0\n",
    "        \n",
    "        x_max = max(x_point) / 1.6\n",
    "        if x_max > 1280: x_max = 1280\n",
    "        \n",
    "        y_max = max(y_point) / 1.6\n",
    "        if y_max > 960: y_max = 960\n",
    "        \n",
    "        id_ = obj['id']\n",
    "        class_ = obj['class']\n",
    "        filename = front_js['filename'][:-4]\n",
    "        \n",
    "        data = [x_min, y_min, x_max, y_max, id_, class_, filename]\n",
    "\n",
    "        df_f2dl.loc[num] = data\n",
    "        \n",
    "        num+=1\n",
    "        \n",
    "df_f2dl['class'] = df_f2dl['class'].str.lower()\n",
    "df_f2dl.loc[(df_f2dl['class'] == 'box-svg-selected') | (df_f2dl['class'] == 'medium_truck'), 'class'] = 'truck'\n",
    "df_f2dl.loc[(df_f2dl['class'] == 'adult'), 'class'] = 'person'\n",
    "df_f2dl.loc[(df_f2dl['class'] == 'suv'), 'class'] = 'car'\n",
    "# df_f2dl['class'] = df_f2dl['class'].apply(lambda x: x.capitalize())\n",
    "# df_f2dl['label'] = LabelEncoder().fit_transform(df_f2dl['class'])\n",
    "df_f2dl.loc[df_f2dl['class'] == 'person', 'label'] = 0\n",
    "df_f2dl.loc[df_f2dl['class'] == 'car', 'label'] = 2\n",
    "df_f2dl.loc[df_f2dl['class'] == 'bus', 'label'] = 5\n",
    "df_f2dl.loc[df_f2dl['class'] == 'truck', 'label'] = 7\n",
    "df_f2dl['label'] = df_f2dl['label'].astype('int')\n",
    "\n",
    "df_f2dl"
   ]
  },
  {
   "cell_type": "code",
   "execution_count": null,
   "metadata": {},
   "outputs": [],
   "source": [
    "print(df_f2dl['class'].unique())\n",
    "print(df_f2dl['label'].unique())"
   ]
  },
  {
   "cell_type": "markdown",
   "metadata": {},
   "source": [
    "### # rear_label\n",
    "---\n"
   ]
  },
  {
   "cell_type": "code",
   "execution_count": null,
   "metadata": {},
   "outputs": [],
   "source": [
    "df_r2dl = pd.DataFrame(columns = ['x_min', 'y_min', 'x_max', 'y_max', 'id', 'class', 'filename'])\n",
    "\n",
    "num = 0\n",
    "for rear_label in sorted(rear_labels)[1:]:\n",
    "    with open(label_path+rear_label, 'rb') as f:\n",
    "        rear_js = json.load(f)\n",
    "    \n",
    "    for obj in rear_js['objects']:\n",
    "        \n",
    "        x_point = []\n",
    "        y_point = []\n",
    "        for points in obj['front']:\n",
    "            x_point.append(points['x'])\n",
    "            y_point.append(points['y'])\n",
    "            \n",
    "        for points in obj['back']:\n",
    "            x_point.append(points['x'])\n",
    "            y_point.append(points['y'])\n",
    "            \n",
    "        x_min = min(x_point) / 1.6\n",
    "        if x_min < 0: x_min = 0\n",
    "        \n",
    "        y_min = min(y_point) / 1.6\n",
    "        if y_min < 0: y_min = 0\n",
    "        \n",
    "        x_max = max(x_point) / 1.6\n",
    "        if x_max > 1280: x_max = 1280\n",
    "        \n",
    "        y_max = max(y_point) / 1.6\n",
    "        if y_max > 960: y_max = 960\n",
    "        \n",
    "        id_ = obj['id']\n",
    "        class_ = obj['class']\n",
    "        filename = rear_js['filename'][:-4]\n",
    "        \n",
    "        data = [x_min, y_min, x_max, y_max, id_, class_, filename]\n",
    "\n",
    "        df_r2dl.loc[num] = data\n",
    "        \n",
    "        num+=1\n",
    "\n",
    "df_r2dl"
   ]
  },
  {
   "cell_type": "code",
   "execution_count": null,
   "metadata": {},
   "outputs": [],
   "source": [
    "print(df_r2dl['class'].unique())\n",
    "# print(df_r2dl['label'].unique())"
   ]
  },
  {
   "cell_type": "markdown",
   "metadata": {},
   "source": [
    "# # yolov5용 label 만들기\n",
    "---"
   ]
  },
  {
   "cell_type": "code",
   "execution_count": null,
   "metadata": {},
   "outputs": [],
   "source": [
    "def kitti_to_yolo(label, x1, y1, x2, y2, image_w, image_h): # x1=x_min, y1=y_min, x2=x_max, y2=y_max\n",
    "    return [label, ((x2 + x1)/(2*image_w)), ((y2 + y1)/(2*image_h)), (x2 - x1)/image_w, (y2 - y1)/image_h]"
   ]
  },
  {
   "cell_type": "code",
   "execution_count": null,
   "metadata": {},
   "outputs": [],
   "source": [
    "for filename in df_f2dl['filename'].unique():\n",
    "\n",
    "    df_lb = pd.DataFrame(columns = ['class', 'x', 'y', 'width', 'height'])\n",
    "    for i, j in enumerate(df_f2dl.loc[df_f2dl['filename'] == filename].index):\n",
    "        tmp = df_f2dl.iloc[j]\n",
    "        label_data = kitti_to_yolo(tmp['label'], tmp['x_min'], tmp['y_min'], tmp['x_max'], tmp['y_max'], 1280, 960)\n",
    "        \n",
    "        df_lb.loc[i] = label_data\n",
    "        df_lb['class'] = df_lb['class'].astype('int')\n",
    "        \n",
    "    df_lb = df_lb.loc[df_lb['width'] > 0]\n",
    "    df_lb = df_lb.loc[df_lb['height'] > 0]\n",
    "    df_lb.to_csv(f'/data/NIA50/data/2-050_sensor_sample/camera/front/labels/{filename}.txt', index = None, header = None, sep = ' ')"
   ]
  },
  {
   "cell_type": "markdown",
   "metadata": {},
   "source": [
    "## # front\n",
    "---"
   ]
  },
  {
   "cell_type": "code",
   "execution_count": null,
   "metadata": {},
   "outputs": [],
   "source": [
    "from PIL import Image, ImageDraw, ImageFont\n",
    "\n",
    "font_size = 15\n",
    "color = (0, 255, 0)\n",
    "\n",
    "for j in df_f2dl['filename'].unique()[:1]:\n",
    "    img = f'/data/NIA50/data/2-050_sensor_sample/camera/front/images/{j}.jpg'\n",
    "    img_ = Image.open(img).convert('RGB')\n",
    "    \n",
    "    temp = df_f2dl.loc[df_f2dl['filename'] == j]\n",
    "    for i in temp.index:\n",
    "        data = temp.loc[i]\n",
    "        \n",
    "        # color = tuple(np.random.choice(255, 3))\n",
    "        font = ImageFont.truetype('/data/NIA50/kimgh/fonts/arial.ttf', 18) # arial.ttf 글씨체, font_size=15\n",
    "        # font = ImageFont.load_default()\n",
    "        # box_color_RGBA  = (0,255,0,255)\n",
    "        # fill_color_RGBA = (0,255,0,50)\n",
    "        # draw = ImageDraw.Draw(img_, 'RGBA') # RGBA\n",
    "        # draw.rectangle((100,100,300,300), outline=box_color_RGBA, fill=fill_color_RGBA, width = 3)\n",
    "        # img_.show()\n",
    "\n",
    "        draw = ImageDraw.Draw(img_)\n",
    "        text_pos = (data[0], data[1]-23)\n",
    "        draw.text(text_pos, f\"{data['id'], data['class']}\", fill = color, font = font, stroke_width = 1)\n",
    "        draw.rectangle(list(data[:4]), outline = color, width = 3)\n",
    "    \n",
    "    print('filename :', j)    \n",
    "    img_.show()"
   ]
  },
  {
   "cell_type": "markdown",
   "metadata": {},
   "source": [
    "## # rear\n",
    "---"
   ]
  },
  {
   "cell_type": "code",
   "execution_count": null,
   "metadata": {},
   "outputs": [],
   "source": [
    "from PIL import Image, ImageDraw, ImageFont\n",
    "\n",
    "font_size = 15\n",
    "color = (0, 255, 0)\n",
    "\n",
    "for j in df_r2dl['filename'].unique()[90:101]:\n",
    "    img = f'/data/NIA50/data/sample/camera/rear/{j}.jpg'\n",
    "    img_ = Image.open(img).convert('RGB')\n",
    "    \n",
    "    temp = df_r2dl.loc[df_r2dl['filename'] == j]\n",
    "    for i in temp.index:\n",
    "        data = temp.loc[i]\n",
    "        \n",
    "        # color = tuple(np.random.choice(255, 3))\n",
    "        font = ImageFont.truetype('/data/NIA50/kimgh/fonts/arial.ttf', 18) # arial.ttf 글씨체, font_size=15\n",
    "        # font = ImageFont.load_default()\n",
    "        # box_color_RGBA  = (0,255,0,255)\n",
    "        # fill_color_RGBA = (0,255,0,50)\n",
    "        # draw = ImageDraw.Draw(img_, 'RGBA') # RGBA\n",
    "        # draw.rectangle((100,100,300,300), outline=box_color_RGBA, fill=fill_color_RGBA, width = 3)\n",
    "        # img_.show()\n",
    "\n",
    "        draw = ImageDraw.Draw(img_)\n",
    "        text_pos = (data[0], data[1]-23)\n",
    "        draw.text(text_pos, f\"{data['id'], data['class']}\", fill = color, font = font, stroke_width = 1)\n",
    "        draw.rectangle(list(data[:4]), outline = color, width = 3)\n",
    "        \n",
    "    print('filename :', j)    \n",
    "    img_.show()"
   ]
  },
  {
   "cell_type": "markdown",
   "metadata": {},
   "source": [
    "# # NIA48\n",
    "---"
   ]
  },
  {
   "cell_type": "markdown",
   "metadata": {},
   "source": [
    "## # train, val, test\n",
    "---"
   ]
  },
  {
   "cell_type": "code",
   "execution_count": null,
   "metadata": {},
   "outputs": [],
   "source": [
    "with open('/data/NIA50/50-2/data/NIA48/temp_data/ImageSets/train.txt', 'r') as f:\n",
    "    train = [i.replace('\\n', '') for i in f.readlines()]\n",
    "    \n",
    "with open('/data/NIA50/50-2/data/NIA48/temp_data/ImageSets/val.txt', 'r') as f:\n",
    "    val = [i.replace('\\n', '') for i in f.readlines()]"
   ]
  },
  {
   "cell_type": "code",
   "execution_count": null,
   "metadata": {},
   "outputs": [],
   "source": [
    "# import glob\n",
    "# from sklearn.model_selection import train_test_split\n",
    "\n",
    "# img_list = sorted(glob.glob('/data/NIA50/data/yolo_aivill48/images/*.png'))\n",
    "\n",
    "# train_list, val_list = train_test_split(img_list, test_size = 0.2, random_state = 0)\n",
    "\n",
    "# with open('/data/NIA50/data/yolo_aivill48/train.txt', 'w') as f:\n",
    "#     f.write('\\n'.join(train_list) + '\\n')\n",
    "    \n",
    "# with open('/data/NIA50/data/yolo_aivill48/val.txt', 'w') as f:\n",
    "#     f.write('\\n'.join(val_list) + '\\n')"
   ]
  },
  {
   "cell_type": "markdown",
   "metadata": {},
   "source": [
    "## # images\n",
    "---"
   ]
  },
  {
   "cell_type": "code",
   "execution_count": 50,
   "metadata": {},
   "outputs": [],
   "source": [
    "save_dir = '/data/NIA50/50-2/data/NIA48/temp_data/ImageSets/'\n",
    "os.makedirs(save_dir, exist_ok=True)\n",
    "\n",
    "image_path = '/data/NIA50/50-2/data/NIA48/temp_data/images/'\n",
    "\n",
    "train_path = [(image_path + i + '.png') for i in train]\n",
    "with open(save_dir + 'train_yolo.txt', 'w') as f:\n",
    "    f.write('\\n'.join(train_path))\n",
    "    \n",
    "val_path = [(image_path + i + '.png') for i in val]\n",
    "with open(save_dir + 'val_yolo.txt', 'w') as f:\n",
    "    f.write('\\n'.join(val_path))"
   ]
  },
  {
   "cell_type": "code",
   "execution_count": null,
   "metadata": {},
   "outputs": [],
   "source": [
    "# # 이미지 복사\n",
    "\n",
    "# import os\n",
    "# import shutil\n",
    "\n",
    "\n",
    "# path = '/data/NIA50/data/yolo_aivill48/'\n",
    "\n",
    "# for i in avante_labels:\n",
    "#     os.makedirs(path+i, exist_ok=True)\n",
    " \n",
    "    \n",
    "# all_path = '/data/NIA50/data/Avante_Clips/*/*'\n",
    "\n",
    "# paths = []\n",
    "# for i in glob.glob(all_path):\n",
    "#     for j in avante_labels:\n",
    "#         if j in i:\n",
    "#             paths.append(i)\n",
    "            \n",
    "\n",
    "# # 폴더 생성\n",
    "# for path in paths:\n",
    "#     shutil.copytree(path + '/Camera/CameraFront/blur', '/data/NIA50/data/yolo_aivill48/' + path[-15:], dirs_exist_ok=True)"
   ]
  },
  {
   "cell_type": "markdown",
   "metadata": {},
   "source": [
    "## # labels \n",
    "---"
   ]
  },
  {
   "cell_type": "code",
   "execution_count": 14,
   "metadata": {},
   "outputs": [],
   "source": [
    "def xywh2xyxy(x):\n",
    "    # Convert nx4 boxes from [x, y, w, h] to [x1, y1, x2, y2] where xy1=top-left, xy2=bottom-right\n",
    "    x = np.array(x).reshape(1, -1)\n",
    "    y = np.copy(x)\n",
    "    y[:, 0] = x[:, 0] - x[:, 2] / 2  # top left x\n",
    "    y[:, 1] = x[:, 1] - x[:, 3] / 2  # top left y\n",
    "    y[:, 2] = x[:, 0] + x[:, 2] / 2  # bottom right x\n",
    "    y[:, 3] = x[:, 1] + x[:, 3] / 2  # bottom right y\n",
    "    y = list(y.reshape(-1))\n",
    "    return y\n",
    "\n",
    "\n",
    "def xyxy2xywhn(x, w=1920, h=1200, clip=False, eps=0.0):\n",
    "    # Convert nx4 boxes from [x1, y1, x2, y2] to [x, y, w, h] normalized where xy1=top-left, xy2=bottom-right\n",
    "    if clip:\n",
    "        clip_boxes(x, (h - eps, w - eps))  # warning: inplace clip\n",
    "    x = np.array(x).reshape(1, -1)\n",
    "    y = np.copy(x)\n",
    "    y[:, 0] = ((x[:, 0] + x[:, 2]) / 2) / w  # x center\n",
    "    y[:, 1] = ((x[:, 1] + x[:, 3]) / 2) / h  # y center\n",
    "    y[:, 2] = (x[:, 2] - x[:, 0]) / w  # width\n",
    "    y[:, 3] = (x[:, 3] - x[:, 1]) / h  # height\n",
    "    y = list(y.reshape(-1))\n",
    "    return y"
   ]
  },
  {
   "cell_type": "code",
   "execution_count": 35,
   "metadata": {},
   "outputs": [],
   "source": [
    "import json\n",
    "import re\n",
    "\n",
    "save_dir = '/data/NIA50/50-2/data/NIA48/temp_data/labels_yolo/'\n",
    "os.makedirs(save_dir, exist_ok=True)\n",
    "\n",
    "# {MOTORCYCLE: [BICYCLE, MOTORCYCLE], CAR: [CAR, BUS, TRUCK, ETC], PEDESTRIAN: PEDESTRIAN}\n",
    "class_ = {'CAR': 0, 'BUS': 0, 'TRUCK': 0, 'ETC': 0, 'BIBYCLE': 1, 'MOTORCYCLE': 1, 'PEDESTRIAN': 2}\n",
    "\n",
    "label_path = '/data/NIA50/50-2/data/NIA48/temp_data/labels_json/'\n",
    "# labels = glob.glob(label_path+'*.json')\n",
    "labels = sorted(os.listdir(label_path))\n",
    "\n",
    "for label in labels:                     \n",
    "    with open(label_path+label, 'r') as f:\n",
    "        label_js = json.load(f)\n",
    "        name = re.sub('FC_', '', label[:-5])\n",
    "        f.close()\n",
    "        \n",
    "        with open (save_dir + name + '.txt', 'w') as f:\n",
    "            \n",
    "            for i in np.arange(len(label_js['annotation'])):\n",
    "                category = label_js['annotation'][i]['category']\n",
    "                xywh = label_js['annotation'][i]['3d_box'][0]['2d_box']\n",
    "                \n",
    "                if xywh[0] < 0: xywh[0] = 0\n",
    "                \n",
    "                f.write(f\"{class_[category]} {xywh[0]/1920} {xywh[1]/1200} {xywh[2]/1920} {xywh[3]/1200}\\n\")\n",
    "\n",
    "            f.close()"
   ]
  },
  {
   "cell_type": "code",
   "execution_count": null,
   "metadata": {},
   "outputs": [],
   "source": [
    "# path = '/data/NIA50/data/Avante_Clips/'\n",
    "# avante_clip = []\n",
    "# for i in os.listdir(path):\n",
    "#     clip = os.listdir(path+i)\n",
    "#     avante_clip+=clip"
   ]
  },
  {
   "cell_type": "code",
   "execution_count": null,
   "metadata": {},
   "outputs": [],
   "source": [
    "# # 라벨 복사\n",
    "\n",
    "# import glob\n",
    "# import shutil\n",
    "    \n",
    "# sorted(avante_clip)\n",
    "# all_path = glob.glob('/data/NIA50/data/aivill-48/*/*/label')\n",
    "\n",
    "# avante_labels = []\n",
    "# for path in all_path:\n",
    "#     for i in os.listdir(path):\n",
    "#         if 'A_Clip' in i:\n",
    "#             # print(path + '/' + i)\n",
    "#             shutil.copytree(path + '/' + i + '/result', '/data/NIA50/data/yolo_aivill48/' + i, dirs_exist_ok=True)\n",
    "#             avante_labels.append(i)"
   ]
  },
  {
   "cell_type": "markdown",
   "metadata": {},
   "source": [
    "# # 특수환경 자율주행 3D 이미지\n",
    "---"
   ]
  },
  {
   "cell_type": "code",
   "execution_count": null,
   "metadata": {},
   "outputs": [],
   "source": [
    "val_df = pd.read_csv('/data/NIA50/data/특수환경 자율주행 3D 이미지/val_df.csv')\n",
    "val_df['frame'] = val_df['frame'].apply(lambda x: str(x).zfill(6))\n",
    "tdf = val_df.loc[val_df['xyzlwh']!='[0.0, 0.0, 0.0, 0, 0, 0]']\n",
    "tdf.head()"
   ]
  },
  {
   "cell_type": "code",
   "execution_count": null,
   "metadata": {},
   "outputs": [],
   "source": [
    "tdf['class'].unique()"
   ]
  },
  {
   "cell_type": "code",
   "execution_count": null,
   "metadata": {},
   "outputs": [],
   "source": []
  },
  {
   "cell_type": "code",
   "execution_count": null,
   "metadata": {},
   "outputs": [],
   "source": [
    "temp = t_df.loc[t_df['xyxy'].apply(lambda x: '-' in x)]"
   ]
  },
  {
   "cell_type": "code",
   "execution_count": null,
   "metadata": {},
   "outputs": [],
   "source": [
    "tt = json.loads(temp['xyxy'].values[0])"
   ]
  },
  {
   "cell_type": "code",
   "execution_count": null,
   "metadata": {},
   "outputs": [],
   "source": [
    "img_ = Image.open('/data/NIA50/data/특수환경 자율주행 3D 이미지/Validation/003/1/drive_0009/image_0/daejeon_003_1_drive_0009_00000034.jpg').convert('RGB')\n",
    "\n",
    "\n",
    "color = tuple(np.random.choice(255, 3))\n",
    "font = ImageFont.truetype('/data/NIA50/kimgh/fonts/arial.ttf', 18) # arial.ttf 글씨체, font_size=15\n",
    "# font = ImageFont.load_default()\n",
    "# box_color_RGBA  = (0,255,0,255)\n",
    "# fill_color_RGBA = (0,255,0,50)\n",
    "# draw = ImageDraw.Draw(img_, 'RGBA') # RGBA\n",
    "# draw.rectangle((100,100,300,300), outline=box_color_RGBA, fill=fill_color_RGBA, width = 3)\n",
    "# img_.show()\n",
    "\n",
    "draw = ImageDraw.Draw(img_)\n",
    "# text_pos = (data[0], data[1]-23)\n",
    "# draw.text(text_pos, f\"{data['id'], data['class']}\", fill = color, font = font, stroke_width = 1)\n",
    "draw.rectangle(js['OBJECT_LIST'][0]['3D_LIST'][0]['BOX'], outline = color, width = 3)\n",
    "img_\n"
   ]
  }
 ],
 "metadata": {
  "kernelspec": {
   "display_name": "Python 3.10.6 ('spiner310')",
   "language": "python",
   "name": "python3"
  },
  "language_info": {
   "codemirror_mode": {
    "name": "ipython",
    "version": 3
   },
   "file_extension": ".py",
   "mimetype": "text/x-python",
   "name": "python",
   "nbconvert_exporter": "python",
   "pygments_lexer": "ipython3",
   "version": "3.10.6"
  },
  "orig_nbformat": 4,
  "vscode": {
   "interpreter": {
    "hash": "746d95b724613cc31ae9ea1c95fce8e51ec3ee7393c1b2a647745f061ae2ccda"
   }
  }
 },
 "nbformat": 4,
 "nbformat_minor": 2
}
